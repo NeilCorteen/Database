{
 "cells": [
  {
   "cell_type": "code",
   "execution_count": null,
   "id": "949c759d",
   "metadata": {},
   "outputs": [],
   "source": [
    "#charts > div > div.chart-list__wrapper\n"
   ]
  },
  {
   "cell_type": "code",
   "execution_count": 3,
   "id": "348fa57c",
   "metadata": {},
   "outputs": [],
   "source": [
    "def scrape_billboard():\n",
    "    # 1. import libraries\n",
    "    from bs4 import BeautifulSoup\n",
    "    import requests\n",
    "    import pandas as pd\n",
    "    \n",
    "    # 2. find url and store it in a variable\n",
    "    url = \"https://www.billboard.com/charts/hot-100\"\n",
    "    \n",
    "    # 3. download html with a get request\n",
    "    response = requests.get(url)\n",
    "    if response.status_code != 200:\n",
    "        print(\"Scraping failed. Status code \" + str(response.status_code))\n",
    "    \n",
    "    # 4. parse html (create the 'soup')\n",
    "    soup = BeautifulSoup(response.content, \"html.parser\")\n",
    "    soup.select(\"#main > div > span > div > div > div.lister > table > tbody > tr:nth-child(1) > td.titleColumn > a\")\n",
    "\n",
    "    # 5. retrieve/extract the desired info\n",
    "    # song titles\n",
    "    songs = soup.find_all(\"span\", class_=\"chart-element__information__song text--truncate color--primary\")\n",
    "    # artists\n",
    "    artists = soup.find_all(\"span\", class_=\"chart-element__information__artist text--truncate color--secondary\")\n",
    "    # last week\n",
    "    last_week_ranks = soup.find_all(\"span\", class_= \"chart-element__meta text--center color--secondary text--last\")\n",
    "    # peak rank\n",
    "    peak_ranks = soup.find_all(\"span\", class_= \"chart-element__meta text--center color--secondary text--peak\")\n",
    "    # weeks on chart\n",
    "    weeks_on_chart = soup.find_all(\"span\", class_= \"chart-element__meta text--center color--secondary text--week\")\n",
    "\n",
    "    for i in [songs, artists, last_week_ranks, peak_ranks, weeks_on_chart]:\n",
    "        for j in range(len(i)):\n",
    "            i[j] = i[j].getText()\n",
    "        \n",
    "    billboard = pd.DataFrame(\n",
    "        {\"song\": songs,\n",
    "         \"artist\": artists,\n",
    "         \"last_week_rank\": last_week_ranks,\n",
    "         \"peak_rank\": peak_ranks,\n",
    "         \"weeks_on_chart\": weeks_on_chart})\n",
    "    return billboard"
   ]
  },
  {
   "cell_type": "code",
   "execution_count": null,
   "id": "1d0e9f21",
   "metadata": {},
   "outputs": [],
   "source": [
    "def hot_recommender():\n",
    "    # import scraping function & random int generator\n",
    "    from scrape_billboard import scrape_billboard\n",
    "    from random import randint\n",
    "    \n",
    "    # scrape billboard hot 100\n",
    "    billboard = scrape_billboard()\n",
    "    \n",
    "    # ask for song\n",
    "    song = input(\"What song do you like? \")\n",
    "    \n",
    "    # check if song is on billboard hot 100\n",
    "    song_row = billboard[billboard[\"song\"].str.contains(song)]\n",
    "    if len(song_row) == 0:\n",
    "        print(\"Your song is not hot\")\n",
    "    else:\n",
    "        check_song = input(\"Did you mean \" + song_row[\"song\"].values[0] + \" by \" + song_row[\"artist\"].values[0] + \"? \")    \n",
    "    \n",
    "        # if song is in billboard hot 100, recommend another random hot song\n",
    "        if check_song == \"yes\":\n",
    "            print(\"That's a hot song.\")\n",
    "            random_song = randint(0, len(billboard)-1)\n",
    "            print(\"You might also like \" + billboard[\"song\"][random_song] + \" by \" + billboard[\"artist\"][random_song])\n",
    "        else:\n",
    "            print(\"Ah, not the one I had in mind.\")"
   ]
  },
  {
   "cell_type": "code",
   "execution_count": null,
   "id": "b6ba1b50",
   "metadata": {},
   "outputs": [],
   "source": []
  },
  {
   "cell_type": "code",
   "execution_count": null,
   "id": "f6e1a65e",
   "metadata": {},
   "outputs": [],
   "source": []
  },
  {
   "cell_type": "code",
   "execution_count": null,
   "id": "c5057cbd",
   "metadata": {},
   "outputs": [],
   "source": []
  }
 ],
 "metadata": {
  "kernelspec": {
   "display_name": "Python 3",
   "language": "python",
   "name": "python3"
  },
  "language_info": {
   "codemirror_mode": {
    "name": "ipython",
    "version": 3
   },
   "file_extension": ".py",
   "mimetype": "text/x-python",
   "name": "python",
   "nbconvert_exporter": "python",
   "pygments_lexer": "ipython3",
   "version": "3.9.2"
  }
 },
 "nbformat": 4,
 "nbformat_minor": 5
}
