{
 "cells": [
  {
   "cell_type": "code",
   "execution_count": 1,
   "id": "further-cross",
   "metadata": {},
   "outputs": [],
   "source": [
    "# create new soup \n",
    "from bs4 import BeautifulSoup \n",
    "import requests \n",
    "import pandas as pd \n"
   ]
  },
  {
   "cell_type": "code",
   "execution_count": 2,
   "id": "forward-portable",
   "metadata": {},
   "outputs": [],
   "source": [
    "# find url and store in var\n",
    "url=\"https://www.billboard.com/charts/hot-100\""
   ]
  },
  {
   "cell_type": "code",
   "execution_count": 3,
   "id": "spanish-baker",
   "metadata": {},
   "outputs": [],
   "source": [
    "# download html with a get request - create response\n",
    "response = requests.get(url)"
   ]
  },
  {
   "cell_type": "code",
   "execution_count": 4,
   "id": "recorded-cathedral",
   "metadata": {},
   "outputs": [
    {
     "data": {
      "text/plain": [
       "200"
      ]
     },
     "execution_count": 4,
     "metadata": {},
     "output_type": "execute_result"
    }
   ],
   "source": [
    "#check response status\n",
    "response.status_code\n",
    "#200 is ok :) "
   ]
  },
  {
   "cell_type": "code",
   "execution_count": 5,
   "id": "statistical-waste",
   "metadata": {},
   "outputs": [],
   "source": [
    "soup=BeautifulSoup(response.content, 'html.parser')\n",
    "#parse and store the contents of the url call "
   ]
  },
  {
   "cell_type": "code",
   "execution_count": 47,
   "id": "enhanced-comparative",
   "metadata": {},
   "outputs": [],
   "source": [
    "songs=soup.select(\"span.chart-element__information\")"
   ]
  },
  {
   "cell_type": "code",
   "execution_count": 48,
   "id": "modular-trigger",
   "metadata": {},
   "outputs": [
    {
     "data": {
      "text/plain": [
       "'Peaches'"
      ]
     },
     "execution_count": 48,
     "metadata": {},
     "output_type": "execute_result"
    }
   ],
   "source": [
    "soup.select(\"span.chart-element__information__song\")[2].text "
   ]
  },
  {
   "cell_type": "code",
   "execution_count": 59,
   "id": "cathedral-header",
   "metadata": {},
   "outputs": [
    {
     "data": {
      "text/plain": [
       "'Peaches'"
      ]
     },
     "execution_count": 59,
     "metadata": {},
     "output_type": "execute_result"
    }
   ],
   "source": [
    "soup.select(\"span.chart-element__information__song\")#[2].text "
   ]
  },
  {
   "cell_type": "code",
   "execution_count": 62,
   "id": "limiting-spanish",
   "metadata": {},
   "outputs": [
    {
     "data": {
      "text/plain": [
       "[]"
      ]
     },
     "execution_count": 62,
     "metadata": {},
     "output_type": "execute_result"
    }
   ],
   "source": [
    "soup.select(\"span.chart-element__information__song text--truncate color--primary\")"
   ]
  },
  {
   "cell_type": "code",
   "execution_count": 50,
   "id": "protecting-consumption",
   "metadata": {},
   "outputs": [
    {
     "data": {
      "text/plain": [
       "'Justin Bieber Featuring Daniel Caesar & Giveon'"
      ]
     },
     "execution_count": 50,
     "metadata": {},
     "output_type": "execute_result"
    }
   ],
   "source": [
    "soup.select(\"span.chart-element__information__artist\")[2].text"
   ]
  },
  {
   "cell_type": "markdown",
   "id": "violent-acquisition",
   "metadata": {},
   "source": [
    "### we have it for one example, now make it work for all the songs\n",
    "- loop through list\n",
    "- pick up title\n",
    "- peformers\n",
    "\n",
    "\n",
    "store in a list"
   ]
  },
  {
   "cell_type": "code",
   "execution_count": 63,
   "id": "optical-filter",
   "metadata": {},
   "outputs": [
    {
     "data": {
      "text/plain": [
       "100"
      ]
     },
     "execution_count": 63,
     "metadata": {},
     "output_type": "execute_result"
    }
   ],
   "source": [
    "title = []\n",
    "performers = []\n",
    "\n",
    "len_songs = len(songs)\n",
    "len_songs\n"
   ]
  },
  {
   "cell_type": "code",
   "execution_count": 64,
   "id": "medium-consensus",
   "metadata": {},
   "outputs": [],
   "source": [
    "for i in range(len_songs):\n",
    "    title.append(soup.select(\"span.chart-element__information__song\")[i].text)\n",
    "    performers.append(soup.select(\"span.chart-element__information__artist\")[i].text)\n"
   ]
  },
  {
   "cell_type": "code",
   "execution_count": 53,
   "id": "incorporate-finnish",
   "metadata": {},
   "outputs": [
    {
     "data": {
      "text/html": [
       "<div>\n",
       "<style scoped>\n",
       "    .dataframe tbody tr th:only-of-type {\n",
       "        vertical-align: middle;\n",
       "    }\n",
       "\n",
       "    .dataframe tbody tr th {\n",
       "        vertical-align: top;\n",
       "    }\n",
       "\n",
       "    .dataframe thead th {\n",
       "        text-align: right;\n",
       "    }\n",
       "</style>\n",
       "<table border=\"1\" class=\"dataframe\">\n",
       "  <thead>\n",
       "    <tr style=\"text-align: right;\">\n",
       "      <th></th>\n",
       "      <th>title</th>\n",
       "      <th>performed_by</th>\n",
       "    </tr>\n",
       "  </thead>\n",
       "  <tbody>\n",
       "    <tr>\n",
       "      <th>0</th>\n",
       "      <td>Rapstar</td>\n",
       "      <td>Polo G</td>\n",
       "    </tr>\n",
       "    <tr>\n",
       "      <th>1</th>\n",
       "      <td>Leave The Door Open</td>\n",
       "      <td>Silk Sonic (Bruno Mars &amp; Anderson .Paak)</td>\n",
       "    </tr>\n",
       "    <tr>\n",
       "      <th>2</th>\n",
       "      <td>Peaches</td>\n",
       "      <td>Justin Bieber Featuring Daniel Caesar &amp; Giveon</td>\n",
       "    </tr>\n",
       "    <tr>\n",
       "      <th>3</th>\n",
       "      <td>Montero (Call Me By Your Name)</td>\n",
       "      <td>Lil Nas X</td>\n",
       "    </tr>\n",
       "    <tr>\n",
       "      <th>4</th>\n",
       "      <td>Levitating</td>\n",
       "      <td>Dua Lipa Featuring DaBaby</td>\n",
       "    </tr>\n",
       "  </tbody>\n",
       "</table>\n",
       "</div>"
      ],
      "text/plain": [
       "                            title  \\\n",
       "0                         Rapstar   \n",
       "1             Leave The Door Open   \n",
       "2                         Peaches   \n",
       "3  Montero (Call Me By Your Name)   \n",
       "4                      Levitating   \n",
       "\n",
       "                                     performed_by  \n",
       "0                                          Polo G  \n",
       "1        Silk Sonic (Bruno Mars & Anderson .Paak)  \n",
       "2  Justin Bieber Featuring Daniel Caesar & Giveon  \n",
       "3                                       Lil Nas X  \n",
       "4                       Dua Lipa Featuring DaBaby  "
      ]
     },
     "execution_count": 53,
     "metadata": {},
     "output_type": "execute_result"
    }
   ],
   "source": [
    "#create the data frame \n",
    "songs = pd.DataFrame({'title':title,'performed_by':performers})\n",
    "songs.head()"
   ]
  },
  {
   "cell_type": "code",
   "execution_count": null,
   "id": "worst-skiing",
   "metadata": {},
   "outputs": [],
   "source": [
    "# do we need to clean? \n",
    "# checking with flo if any clean steps are needed at this stage - he said no\n"
   ]
  },
  {
   "cell_type": "code",
   "execution_count": 65,
   "id": "champion-clothing",
   "metadata": {},
   "outputs": [],
   "source": [
    "# output to csv \n",
    "songs.to_csv('songs_top100.csv')"
   ]
  }
 ],
 "metadata": {
  "kernelspec": {
   "display_name": "Python 3",
   "language": "python",
   "name": "python3"
  },
  "language_info": {
   "codemirror_mode": {
    "name": "ipython",
    "version": 3
   },
   "file_extension": ".py",
   "mimetype": "text/x-python",
   "name": "python",
   "nbconvert_exporter": "python",
   "pygments_lexer": "ipython3",
   "version": "3.9.2"
  }
 },
 "nbformat": 4,
 "nbformat_minor": 5
}
